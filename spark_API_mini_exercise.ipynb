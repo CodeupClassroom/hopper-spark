{
 "cells": [
  {
   "cell_type": "markdown",
   "id": "f24778d2",
   "metadata": {},
   "source": [
    "# Spark API Mini Exercises"
   ]
  },
  {
   "cell_type": "code",
   "execution_count": null,
   "id": "402dcd44",
   "metadata": {},
   "outputs": [],
   "source": [
    "import pandas as pd\n",
    "import numpy as np\n",
    "\n",
    "np.random.seed(13)"
   ]
  },
  {
   "cell_type": "markdown",
   "id": "4f1ffd9c",
   "metadata": {},
   "source": [
    "#### 1. Spark Dataframe Basics\n",
    "\n",
    "i. Use the starter code below to create a pandas dataframe (just run the cell):"
   ]
  },
  {
   "cell_type": "code",
   "execution_count": null,
   "id": "c8dcad62",
   "metadata": {},
   "outputs": [],
   "source": [
    "pandas_dataframe = pd.DataFrame({\n",
    "    \"n\": np.random.randn(20),\n",
    "    \"group\": np.random.choice(list(\"xyz\"), 20),\n",
    "    \"abool\": np.random.choice([True, False], 20),\n",
    "})"
   ]
  },
  {
   "cell_type": "markdown",
   "id": "c8a047d0",
   "metadata": {},
   "source": [
    "ii. Convert the pandas dataframe to a spark dataframe. From this point forward, do all of your work with the spark dataframe, not the pandas dataframe."
   ]
  },
  {
   "cell_type": "code",
   "execution_count": null,
   "id": "58ebe405",
   "metadata": {},
   "outputs": [],
   "source": []
  },
  {
   "cell_type": "markdown",
   "id": "2e739e9f",
   "metadata": {},
   "source": [
    "iii. Show the first 3 rows of the dataframe."
   ]
  },
  {
   "cell_type": "code",
   "execution_count": null,
   "id": "a07581df",
   "metadata": {},
   "outputs": [],
   "source": []
  },
  {
   "cell_type": "markdown",
   "id": "1228ecf8",
   "metadata": {},
   "source": [
    "iv. Show the first 7 rows of the dataframe."
   ]
  },
  {
   "cell_type": "code",
   "execution_count": null,
   "id": "ffe886ca",
   "metadata": {},
   "outputs": [],
   "source": []
  },
  {
   "cell_type": "markdown",
   "id": "65fea965",
   "metadata": {},
   "source": [
    "v. View a summary of the data using `.describe()`.\n",
    "> Note that `.describe` returns another dataframe, so we still have to do `.show()` at the end."
   ]
  },
  {
   "cell_type": "code",
   "execution_count": null,
   "id": "fe0dd8c7",
   "metadata": {},
   "outputs": [],
   "source": []
  },
  {
   "cell_type": "markdown",
   "id": "4f600502",
   "metadata": {},
   "source": [
    "vi. Use `.select()` to create a new dataframe with just the `n` and `abool` columns. View the first 5 rows of this dataframe."
   ]
  },
  {
   "cell_type": "code",
   "execution_count": null,
   "id": "b653a152",
   "metadata": {},
   "outputs": [],
   "source": []
  },
  {
   "cell_type": "markdown",
   "id": "dc90b625",
   "metadata": {},
   "source": [
    "vii. Use `.select()` to create a new dataframe with just the `group` and `abool` columns. View the first 5 rows of this dataframe."
   ]
  },
  {
   "cell_type": "code",
   "execution_count": null,
   "id": "07dfb57b",
   "metadata": {},
   "outputs": [],
   "source": []
  },
  {
   "cell_type": "markdown",
   "id": "dbf9d0c2",
   "metadata": {},
   "source": [
    "viii. Use `.select()` to create a new dataframe with the `group` column and the `abool` column renamed to `a_boolean_value`. Show the first 3 rows of this dataframe."
   ]
  },
  {
   "cell_type": "code",
   "execution_count": null,
   "id": "76fc8eaf",
   "metadata": {},
   "outputs": [],
   "source": []
  },
  {
   "cell_type": "markdown",
   "id": "895b1fe7",
   "metadata": {},
   "source": [
    "ix. Use `.select()` to create a new dataframe with the `group` column and the `n` column renamed to `a_numeric_value`. Show the first 6 rows of this dataframe."
   ]
  },
  {
   "cell_type": "markdown",
   "id": "f758611f",
   "metadata": {},
   "source": [
    "#### 2. Column Manipulation\n",
    "\n",
    "i. Use the starter code above to re-create a spark dataframe. Store the spark dataframe in a varaible named `df`"
   ]
  },
  {
   "cell_type": "code",
   "execution_count": null,
   "id": "54c36b9e",
   "metadata": {},
   "outputs": [],
   "source": []
  },
  {
   "cell_type": "markdown",
   "id": "90ae4e84",
   "metadata": {},
   "source": [
    "ii. Use `select()` to add 4 to the `n` column. Show the results."
   ]
  },
  {
   "cell_type": "code",
   "execution_count": null,
   "id": "2eec5025",
   "metadata": {},
   "outputs": [],
   "source": []
  },
  {
   "cell_type": "markdown",
   "id": "aa5923f8",
   "metadata": {},
   "source": [
    "iii. Subtract 5 from the `n` column and view the results."
   ]
  },
  {
   "cell_type": "code",
   "execution_count": null,
   "id": "0c3891f5",
   "metadata": {},
   "outputs": [],
   "source": []
  },
  {
   "cell_type": "markdown",
   "id": "e895e7d2",
   "metadata": {},
   "source": [
    "iv. Multiply the `n` column by 2. View the results along with the original numbers."
   ]
  },
  {
   "cell_type": "code",
   "execution_count": null,
   "id": "a58e8bce",
   "metadata": {},
   "outputs": [],
   "source": []
  },
  {
   "cell_type": "markdown",
   "id": "35ff1c9f",
   "metadata": {},
   "source": [
    "v. Add a new column named `n2` that is the `n` value multiplied by -1. Show the first 4 rows of your dataframe. You should see the original `n` value as well as `n2`."
   ]
  },
  {
   "cell_type": "code",
   "execution_count": null,
   "id": "37a1b15e",
   "metadata": {},
   "outputs": [],
   "source": []
  },
  {
   "cell_type": "markdown",
   "id": "06a273fb",
   "metadata": {},
   "source": [
    "vi. Add a new column named `n3` that is the `n` value squared. Show the first 5 rows of your dataframe. You should see both `n`, `n2`, and `n3`."
   ]
  },
  {
   "cell_type": "code",
   "execution_count": null,
   "id": "ec2353fd",
   "metadata": {},
   "outputs": [],
   "source": []
  },
  {
   "cell_type": "markdown",
   "id": "54f535e4",
   "metadata": {},
   "source": [
    "vii. What happens when you run the code below?"
   ]
  },
  {
   "cell_type": "code",
   "execution_count": null,
   "id": "7deed9b5",
   "metadata": {},
   "outputs": [],
   "source": [
    "df.group + df.abool"
   ]
  },
  {
   "cell_type": "markdown",
   "id": "8e9d00b7",
   "metadata": {},
   "source": [
    "**A**: A Column object is produced that represents the transformation of adding together the `group` and `abool` columns."
   ]
  },
  {
   "cell_type": "markdown",
   "id": "75fa6499",
   "metadata": {},
   "source": [
    "viii. What happens when you run the code below? What is the difference between this and the previous code sample?"
   ]
  },
  {
   "cell_type": "code",
   "execution_count": null,
   "id": "dd353193",
   "metadata": {},
   "outputs": [],
   "source": [
    "df.select(df.group + df.abool)"
   ]
  },
  {
   "cell_type": "markdown",
   "id": "0803ce4e",
   "metadata": {},
   "source": [
    "An error is produced referencing the incompatible types. Unlike the previous code sample, this one is done within the context of a `.select`, so even though there are still no values produced (we haven't invoked an action yet), spark is aware that the types are incompatible.\n",
    "\n",
    "ix. Try adding various other columns together. What are the results of combining the different data types?"
   ]
  },
  {
   "cell_type": "code",
   "execution_count": null,
   "id": "750108ab",
   "metadata": {},
   "outputs": [],
   "source": []
  },
  {
   "cell_type": "code",
   "execution_count": null,
   "id": "72ac86b8",
   "metadata": {},
   "outputs": [],
   "source": []
  },
  {
   "cell_type": "code",
   "execution_count": null,
   "id": "4ad40192",
   "metadata": {},
   "outputs": [],
   "source": []
  },
  {
   "cell_type": "markdown",
   "id": "3ff77c51",
   "metadata": {},
   "source": [
    "#### 3. Type Casting\n",
    "\n",
    "i. Use the starter code above to re-create a spark dataframe named `df`."
   ]
  },
  {
   "cell_type": "code",
   "execution_count": null,
   "id": "f1a9e9ff",
   "metadata": {},
   "outputs": [],
   "source": []
  },
  {
   "cell_type": "markdown",
   "id": "6dbb20cc",
   "metadata": {},
   "source": [
    "ii. Use `.printSchema()` to view the datatypes in your dataframe."
   ]
  },
  {
   "cell_type": "code",
   "execution_count": null,
   "id": "ecadccd7",
   "metadata": {},
   "outputs": [],
   "source": []
  },
  {
   "cell_type": "markdown",
   "id": "8e22eabe",
   "metadata": {},
   "source": [
    "iii. Use `.dtypes` to view the datatypes in your dataframe."
   ]
  },
  {
   "cell_type": "code",
   "execution_count": null,
   "id": "dfe43beb",
   "metadata": {},
   "outputs": [],
   "source": []
  },
  {
   "cell_type": "markdown",
   "id": "b0a8621a",
   "metadata": {},
   "source": [
    "iv. What is the difference between the two code samples below?"
   ]
  },
  {
   "cell_type": "code",
   "execution_count": null,
   "id": "94db80fd",
   "metadata": {},
   "outputs": [],
   "source": [
    "df.abool.cast('int')"
   ]
  },
  {
   "cell_type": "code",
   "execution_count": null,
   "id": "009fb5d3",
   "metadata": {},
   "outputs": [],
   "source": [
    "df.select(df.abool.cast('int')).show()"
   ]
  },
  {
   "cell_type": "markdown",
   "id": "76990605",
   "metadata": {},
   "source": [
    "**A:** One is a creating a Column and one is using that same column in a `.select()` in order to view the results of the cast."
   ]
  },
  {
   "cell_type": "markdown",
   "id": "f5556951",
   "metadata": {},
   "source": [
    "v. Use `.select()` and `.cast()` to convert the abool column to an integer type. View the results."
   ]
  },
  {
   "cell_type": "code",
   "execution_count": null,
   "id": "ad3a2263",
   "metadata": {},
   "outputs": [],
   "source": []
  },
  {
   "cell_type": "markdown",
   "id": "35549949",
   "metadata": {},
   "source": [
    "vi. Convert the `group` column to a integer data type and view the results. What happens?"
   ]
  },
  {
   "cell_type": "code",
   "execution_count": null,
   "id": "28e2e8c2",
   "metadata": {},
   "outputs": [],
   "source": []
  },
  {
   "cell_type": "markdown",
   "id": "65e8f127",
   "metadata": {},
   "source": [
    "vii. Convert the `n` column to a integer data type and view the results. What happens?"
   ]
  },
  {
   "cell_type": "code",
   "execution_count": null,
   "id": "822ddf48",
   "metadata": {},
   "outputs": [],
   "source": []
  },
  {
   "cell_type": "markdown",
   "id": "d0321303",
   "metadata": {},
   "source": [
    "viii. Convert the `abool` column to a string data type and view the results. What happens?"
   ]
  },
  {
   "cell_type": "code",
   "execution_count": null,
   "id": "53353b89",
   "metadata": {},
   "outputs": [],
   "source": []
  },
  {
   "cell_type": "markdown",
   "id": "40a7bf7e",
   "metadata": {},
   "source": [
    "#### 4. Built-in Functions\n",
    "\n",
    "i. Use the starter code above to re-create a spark dataframe named `df`."
   ]
  },
  {
   "cell_type": "code",
   "execution_count": null,
   "id": "8d91e64c",
   "metadata": {},
   "outputs": [],
   "source": []
  },
  {
   "cell_type": "markdown",
   "id": "3113e26b",
   "metadata": {},
   "source": [
    "ii. Import the necessary functions from `pyspark.sql.functions`"
   ]
  },
  {
   "cell_type": "code",
   "execution_count": null,
   "id": "bcd19845",
   "metadata": {},
   "outputs": [],
   "source": [
    "from pyspark.sql.functions import min, max, mean, lit, concat"
   ]
  },
  {
   "cell_type": "markdown",
   "id": "6b1b9dfd",
   "metadata": {},
   "source": [
    "iii. Find the highest `n` value."
   ]
  },
  {
   "cell_type": "code",
   "execution_count": null,
   "id": "8d891af6",
   "metadata": {},
   "outputs": [],
   "source": []
  },
  {
   "cell_type": "markdown",
   "id": "aa6944b5",
   "metadata": {},
   "source": [
    "iv. Find the lowest `n` value."
   ]
  },
  {
   "cell_type": "code",
   "execution_count": null,
   "id": "4f9b2176",
   "metadata": {},
   "outputs": [],
   "source": []
  },
  {
   "cell_type": "markdown",
   "id": "1abc61f6",
   "metadata": {},
   "source": [
    "v. Find the average `n` value."
   ]
  },
  {
   "cell_type": "code",
   "execution_count": null,
   "id": "05ea341e",
   "metadata": {},
   "outputs": [],
   "source": []
  },
  {
   "cell_type": "markdown",
   "id": "3ba73026",
   "metadata": {},
   "source": [
    "vi. Use `concat()` to change the group column to say \"Group: x\" or \"Group: y\""
   ]
  },
  {
   "cell_type": "code",
   "execution_count": null,
   "id": "03bbaa87",
   "metadata": {},
   "outputs": [],
   "source": []
  },
  {
   "cell_type": "markdown",
   "id": "ea48b3c9",
   "metadata": {},
   "source": [
    "vii. Use `concat()` to combine the `n` and `group` columns to produce results that look like this: \"x: -1.432\" or \"z: 2.352\""
   ]
  },
  {
   "cell_type": "code",
   "execution_count": null,
   "id": "759ffa50",
   "metadata": {},
   "outputs": [],
   "source": []
  },
  {
   "cell_type": "markdown",
   "id": "000c6e50",
   "metadata": {},
   "source": [
    "#### 5. When / Otherwise\n",
    "\n",
    "i. Use the starter code above to re-create a spark dataframe named `df`."
   ]
  },
  {
   "cell_type": "code",
   "execution_count": null,
   "id": "03ecf982",
   "metadata": {},
   "outputs": [],
   "source": []
  },
  {
   "cell_type": "markdown",
   "id": "71a5729d",
   "metadata": {},
   "source": [
    "ii. Use `when()` and `.otherwise()` to create a column that contains the text \"It is true\" when abool is true and \"It is false\"\" when abool is false."
   ]
  },
  {
   "cell_type": "code",
   "execution_count": null,
   "id": "178a0fc3",
   "metadata": {},
   "outputs": [],
   "source": []
  },
  {
   "cell_type": "markdown",
   "id": "a7150a4d",
   "metadata": {},
   "source": [
    "iii. Create a column that contains 0 if n is less than 0, otherwise, the original `n` value."
   ]
  },
  {
   "cell_type": "code",
   "execution_count": null,
   "id": "5d3c2a0d",
   "metadata": {},
   "outputs": [],
   "source": []
  },
  {
   "cell_type": "markdown",
   "id": "58a59fcb",
   "metadata": {},
   "source": [
    "#### 6. Filter / Where\n",
    "\n",
    "i. Use the starter code above to re-create a spark dataframe named `df`."
   ]
  },
  {
   "cell_type": "code",
   "execution_count": null,
   "id": "fcfffa8a",
   "metadata": {},
   "outputs": [],
   "source": []
  },
  {
   "cell_type": "markdown",
   "id": "2bdd3450",
   "metadata": {},
   "source": [
    "ii. Use `.filter()` or `.where()` to select just the rows where the group is y and view the results."
   ]
  },
  {
   "cell_type": "code",
   "execution_count": null,
   "id": "4123fc04",
   "metadata": {},
   "outputs": [],
   "source": []
  },
  {
   "cell_type": "markdown",
   "id": "9791666f",
   "metadata": {},
   "source": [
    "iii. Select just the columns where the `abool` column is false and view the results."
   ]
  },
  {
   "cell_type": "code",
   "execution_count": null,
   "id": "6aebdc13",
   "metadata": {},
   "outputs": [],
   "source": []
  },
  {
   "cell_type": "markdown",
   "id": "4b79d8f8",
   "metadata": {},
   "source": [
    "iv. Find the columns where the group column is not y."
   ]
  },
  {
   "cell_type": "code",
   "execution_count": null,
   "id": "9c30b8a7",
   "metadata": {},
   "outputs": [],
   "source": []
  },
  {
   "cell_type": "markdown",
   "id": "388e87b9",
   "metadata": {},
   "source": [
    "v. Find the columns where `n` is positive."
   ]
  },
  {
   "cell_type": "code",
   "execution_count": null,
   "id": "c7c2aa78",
   "metadata": {},
   "outputs": [],
   "source": []
  },
  {
   "cell_type": "markdown",
   "id": "6abae76e",
   "metadata": {},
   "source": [
    "vi. Find the columns where `abool` is true and the group column is z."
   ]
  },
  {
   "cell_type": "code",
   "execution_count": null,
   "id": "3aed5a1d",
   "metadata": {},
   "outputs": [],
   "source": []
  },
  {
   "cell_type": "markdown",
   "id": "4d539fa2",
   "metadata": {},
   "source": [
    "vii. Find the columns where `abool` is true or the `group` column is z."
   ]
  },
  {
   "cell_type": "code",
   "execution_count": null,
   "id": "14bf1fee",
   "metadata": {},
   "outputs": [],
   "source": []
  },
  {
   "cell_type": "markdown",
   "id": "35e28969",
   "metadata": {},
   "source": [
    "viii. Find the columns where `abool` is false and `n` is less than 1"
   ]
  },
  {
   "cell_type": "code",
   "execution_count": null,
   "id": "30ecb663",
   "metadata": {},
   "outputs": [],
   "source": []
  },
  {
   "cell_type": "markdown",
   "id": "b2a1457a",
   "metadata": {},
   "source": [
    "ix. Find the columns where `abool` is false or `n` is less than 1"
   ]
  },
  {
   "cell_type": "code",
   "execution_count": null,
   "id": "1cab71e4",
   "metadata": {},
   "outputs": [],
   "source": []
  },
  {
   "cell_type": "markdown",
   "id": "2667721b",
   "metadata": {},
   "source": [
    "#### 7. Sorting\n",
    "\n",
    "i. Use the starter code above to re-create a spark dataframe named `df`."
   ]
  },
  {
   "cell_type": "code",
   "execution_count": null,
   "id": "cffa548d",
   "metadata": {},
   "outputs": [],
   "source": []
  },
  {
   "cell_type": "markdown",
   "id": "032a4315",
   "metadata": {},
   "source": [
    "ii. Sort by the `n` value."
   ]
  },
  {
   "cell_type": "code",
   "execution_count": null,
   "id": "1cb4d70c",
   "metadata": {},
   "outputs": [],
   "source": []
  },
  {
   "cell_type": "markdown",
   "id": "ea9e4536",
   "metadata": {},
   "source": [
    "iii. Sort by the `group` value, both ascending and descending."
   ]
  },
  {
   "cell_type": "code",
   "execution_count": null,
   "id": "0b5d4945",
   "metadata": {},
   "outputs": [],
   "source": [
    "from pyspark.sql.functions import asc, desc"
   ]
  },
  {
   "cell_type": "code",
   "execution_count": null,
   "id": "1201ab57",
   "metadata": {},
   "outputs": [],
   "source": []
  },
  {
   "cell_type": "code",
   "execution_count": null,
   "id": "c2e5269b",
   "metadata": {},
   "outputs": [],
   "source": []
  },
  {
   "cell_type": "markdown",
   "id": "05ef1e95",
   "metadata": {},
   "source": [
    "iv. Sort by the `group` value first, then, within each group, sort by `n` value."
   ]
  },
  {
   "cell_type": "code",
   "execution_count": null,
   "id": "483a8b51",
   "metadata": {},
   "outputs": [],
   "source": []
  },
  {
   "cell_type": "markdown",
   "id": "891ad917",
   "metadata": {},
   "source": [
    "v. Sort by `abool`, `group`, and `n`. Does it matter in what order you specify the columns when sorting?"
   ]
  },
  {
   "cell_type": "code",
   "execution_count": null,
   "id": "984d8736",
   "metadata": {},
   "outputs": [],
   "source": []
  },
  {
   "cell_type": "markdown",
   "id": "24722352",
   "metadata": {},
   "source": [
    "**A:** It does matter as it determines in what order they will be sorted. When the values for the first specified column are the same, the next specified column will determine sort order."
   ]
  },
  {
   "cell_type": "markdown",
   "id": "55f34487",
   "metadata": {},
   "source": [
    "#### 8. Spark SQL\n",
    "\n",
    "i. Use the starter code above to re-create a spark dataframe named `df`."
   ]
  },
  {
   "cell_type": "code",
   "execution_count": null,
   "id": "f1c9bfbc",
   "metadata": {},
   "outputs": [],
   "source": []
  },
  {
   "cell_type": "markdown",
   "id": "afedc2cc",
   "metadata": {},
   "source": [
    "ii. Turn your dataframe into a table that can be queried with spark SQL. Name the table `my_df`. Answer the rest of the questions in this section with a spark sql query (`spark.sql`) against `my_df`. After each step, view the first 7 records from the dataframe.\n"
   ]
  },
  {
   "cell_type": "code",
   "execution_count": null,
   "id": "c4441178",
   "metadata": {},
   "outputs": [],
   "source": []
  },
  {
   "cell_type": "markdown",
   "id": "3ae36cd3",
   "metadata": {},
   "source": [
    "iii. Write a query that shows all of the columns from your dataframe."
   ]
  },
  {
   "cell_type": "code",
   "execution_count": null,
   "id": "afa1c3f1",
   "metadata": {},
   "outputs": [],
   "source": []
  },
  {
   "cell_type": "markdown",
   "id": "686512e4",
   "metadata": {},
   "source": [
    "iv. Write a query that shows just the `n` and `abool` columns from the dataframe."
   ]
  },
  {
   "cell_type": "code",
   "execution_count": null,
   "id": "7555c1b0",
   "metadata": {},
   "outputs": [],
   "source": []
  },
  {
   "cell_type": "markdown",
   "id": "9ebbd2e2",
   "metadata": {},
   "source": [
    "v. Write a query that shows just the `n` and `group` columns. Rename the `group` column to `g`."
   ]
  },
  {
   "cell_type": "code",
   "execution_count": null,
   "id": "d14b679e",
   "metadata": {},
   "outputs": [],
   "source": []
  },
  {
   "cell_type": "markdown",
   "id": "64198546",
   "metadata": {},
   "source": [
    "vi. Write a query that selects `n`, and creates two new columns: `n2`, the original `n` values halved, and `n3`: the original `n` values minus 1."
   ]
  },
  {
   "cell_type": "code",
   "execution_count": null,
   "id": "f1f48165",
   "metadata": {},
   "outputs": [],
   "source": []
  },
  {
   "cell_type": "markdown",
   "id": "e881c247",
   "metadata": {},
   "source": [
    "vii. What happens if you make a SQL syntax error in your query?"
   ]
  },
  {
   "cell_type": "code",
   "execution_count": null,
   "id": "d70fa8f9",
   "metadata": {},
   "outputs": [],
   "source": []
  },
  {
   "cell_type": "markdown",
   "id": "fd6875af",
   "metadata": {},
   "source": [
    "#### 9. Aggregating\n",
    "\n",
    "i. Use the starter code above to re-create a spark dataframe named `df`."
   ]
  },
  {
   "cell_type": "code",
   "execution_count": null,
   "id": "6e8a169e",
   "metadata": {},
   "outputs": [],
   "source": []
  },
  {
   "cell_type": "markdown",
   "id": "7effd53f",
   "metadata": {},
   "source": [
    "ii. What is the average `n` value for each group in the `group` column?"
   ]
  },
  {
   "cell_type": "code",
   "execution_count": null,
   "id": "13bfdd00",
   "metadata": {},
   "outputs": [],
   "source": []
  },
  {
   "cell_type": "markdown",
   "id": "7d27a4b6",
   "metadata": {},
   "source": [
    "iii. What is the maximum `n` value for each group in the `group` column?"
   ]
  },
  {
   "cell_type": "code",
   "execution_count": null,
   "id": "b4ac476d",
   "metadata": {},
   "outputs": [],
   "source": []
  },
  {
   "cell_type": "markdown",
   "id": "923acac0",
   "metadata": {},
   "source": [
    "iv. What is the minimum `n` value by `abool`?"
   ]
  },
  {
   "cell_type": "code",
   "execution_count": null,
   "id": "8866b4d6",
   "metadata": {},
   "outputs": [],
   "source": []
  },
  {
   "cell_type": "markdown",
   "id": "e5ff801d",
   "metadata": {},
   "source": [
    "v. What is the average `n` value for each unique combination of the `group` and `abool` column?"
   ]
  },
  {
   "cell_type": "code",
   "execution_count": null,
   "id": "c2c13a9a",
   "metadata": {},
   "outputs": [],
   "source": []
  }
 ],
 "metadata": {
  "kernelspec": {
   "display_name": "Python 3",
   "language": "python",
   "name": "python3"
  },
  "language_info": {
   "codemirror_mode": {
    "name": "ipython",
    "version": 3
   },
   "file_extension": ".py",
   "mimetype": "text/x-python",
   "name": "python",
   "nbconvert_exporter": "python",
   "pygments_lexer": "ipython3",
   "version": "3.8.8"
  }
 },
 "nbformat": 4,
 "nbformat_minor": 5
}
